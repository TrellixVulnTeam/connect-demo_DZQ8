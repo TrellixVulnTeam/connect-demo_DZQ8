{
  "cells": [
    {
      "metadata": {
        "collapsed": true
      },
      "cell_type": "markdown",
      "source": "# Train a mobilenet model using Tensorflow\n\nThis notebook walks you through the process of using transfer learning to train a pre-trained `mobilenet` to recognize different breeds of cats and dogs. We will be using the [Oxford IIIT Pets dataset](http://www.robots.ox.ac.uk/~vgg/data/pets/) in this notebook.\n\nIt assumes that you have run through the `setup.ipynb` notebook to setup the workspace, datasets, and libraries that are used in this notebook. After you have run through the code in that notebook, you will have:\n\n1. Created and started a Data Science Virtual Machine using a GPU-powered Azure VM size, e.g., NC6.\n1. Downloaded and pre-processed the [Oxford IIIT Pets dataset](http://www.robots.ox.ac.uk/~vgg/data/pets/)\n1. Created an [Azure Machine Learning Workspace](https://docs.microsoft.com/en-us/azure/machine-learning/service/quickstart-get-started)\n1. Created an [Azure Batch AI Cluster](https://docs.microsoft.com/en-us/azure/batch-ai/clusters)\n\nAll of these resources will be used by the code in this notebook."
    },
    {
      "metadata": {},
      "cell_type": "markdown",
      "source": "## Examine the dataset\n\nLet's look at the data in the dataset. The Oxford IIIT Pets dataset contains pictures of 37 different species of dogs and cats. All of that data lives in the ```images``` directory of this project. Let's begin by looking at the contents of this directory.\n\nYou can see that the name of each directory is the name of the breed. Within each directory is ~200 photos of that breed."
    },
    {
      "metadata": {
        "scrolled": false,
        "trusted": true
      },
      "cell_type": "code",
      "source": "!ls images",
      "execution_count": null,
      "outputs": []
    },
    {
      "metadata": {},
      "cell_type": "markdown",
      "source": "Let's look at some sample images for each breed. We're using some code in the ```image_helpers``` module to render and display thumbnails of each image using ```matplotlib```."
    },
    {
      "metadata": {
        "trusted": true
      },
      "cell_type": "code",
      "source": "%matplotlib inline\nfrom scripts.image_helpers import get_sample_images_for_each_species, plot_images_in_grid\n\nimages_data = get_sample_images_for_each_species('images')\nplot_images_in_grid(images_data, 6)",
      "execution_count": null,
      "outputs": []
    },
    {
      "metadata": {},
      "cell_type": "markdown",
      "source": "## Transfer learning using mobilenet and our pet images\n\nNext, let's use transfer learning to retrain the final layer of the `mobilenet` model. We'll be using the images that we saw earlier to train this model. We'll do the training using the GPU powered Azure VM that's attached to this notebook. If you're using an `NC6` Azure VM Size, which has an NVidia K80 GPU card in it, the transfer learning should be complete in ~25s."
    },
    {
      "metadata": {
        "trusted": true
      },
      "cell_type": "code",
      "source": "%%time\nfrom scripts.retrain import train \n\ntrain(architecture='mobilenet_0.50_224', \n      image_dir='images', \n      output_dir='models', \n      bottleneck_dir='bottleneck',\n      model_dir='model',\n      learning_rate=0.00008, \n      training_steps=500,\n      use_hyperdrive=False)",
      "execution_count": null,
      "outputs": []
    },
    {
      "metadata": {},
      "cell_type": "markdown",
      "source": "The validation accuracy of this model isn't bad, with a **test accuracy of ~79%** using a learning rate of 0.00008. This is a pretty remarkable result, since the original model published in 2012 with the Oxford IIIT Pet Dataset only [achieved 59% accuracy](http://www.robots.ox.ac.uk/~vgg/publications/2012/parkhi12a/parkhi12a.pdf). \n\nLet's see if we can further improve the accuracy of this model using the Hyperdrive feature of Azure Machine Learning to explore different learning rates by doing many runs using an Azure Batch AI cluster of GPU equipped VMs."
    },
    {
      "metadata": {},
      "cell_type": "markdown",
      "source": "## Using HyperDrive to do hyper parameter optimization\n\nNow that we have a model, the next step is to tune it for hyperdrive parameters. Hyperdrive works by copying a training script to each node in the cluster. We will be using an Azure ML `Datastore` that contains the all of the images that we used locally in this DSVM. \n\nGet a reference to the ```Workspace``` and the ```Experiment``` that we will be using in this demo."
    },
    {
      "metadata": {
        "trusted": true
      },
      "cell_type": "code",
      "source": "from scripts.config import AML\nfrom azureml.core import Workspace\nfrom azureml.core import Experiment\n\nws = Workspace.get(name=AML.workspace_name, \n                   subscription_id=AML.subscription_id, \n                   resource_group=AML.resource_group) \n\nexperiment = Experiment(ws, AML.experiment_name)",
      "execution_count": null,
      "outputs": []
    },
    {
      "metadata": {},
      "cell_type": "markdown",
      "source": "Below is the training script that will be uploaded to each node in the Azure Batch AI cluster. You can see that it accepts two command-line parameters:\n\n* `--datastore-dir` points to the directory that contains the Oxford IIIT Pets dataset that will be mapped onto each VM in the cluster\n* `--learning-rate` is the learning rate that is passed into this node to try by the Hyperdrive daemon"
    },
    {
      "metadata": {
        "trusted": true
      },
      "cell_type": "code",
      "source": "%%writefile scripts/train.py\n\nimport argparse, os\nimport retrain as rt\n\nparser = argparse.ArgumentParser()\nparser.add_argument('--datastore-dir', type=str, dest='datastore_dir', help='datastore dir mounting point')\nparser.add_argument('--learning-rate', type=float, dest='learning_rate', default=0.01, help='learning rate')\nargs = parser.parse_args()\n\nimages_dir = os.path.join(args.datastore_dir, 'images')\nbottleneck_dir = os.path.join(args.datastore_dir, 'bottleneck')\nmodel_dir = os.path.join(args.datastore_dir, 'model')\noutput_dir = 'outputs'\n\nrt.train(architecture='mobilenet_0.50_224', \n         image_dir=images_dir,\n         output_dir=output_dir,\n         bottleneck_dir=bottleneck_dir,\n         model_dir=model_dir,\n         learning_rate=args.learning_rate,\n         training_steps=2000,\n         use_hyperdrive=True)",
      "execution_count": null,
      "outputs": []
    },
    {
      "metadata": {},
      "cell_type": "markdown",
      "source": "## Submit the job to Hyperdrive\n\nNow let's create and submit a Hyperdrive job. There are two key things to point out here:\n\n1. We are doing a random sampling of the learning rate, varying it from 10E-15 to 10E-3, using a logarithmic random number generator.\n1. We are point to a ```Datastore``` that we have configured earlier with the Oxford IIIT training dataset passed in by reference to each node on the compute store.\n1. We are passing the ```train.py``` file that we wrote out earlier to each compute node on the Batch AI cluster.\n1. The training code writes out ```validation_accuracy``` to a logfile that is read by the Hyperdrive daemon to determine whether to prematurely terminate some runs if they are not within 15% of the best run to date.\n"
    },
    {
      "metadata": {},
      "cell_type": "markdown",
      "source": "Run the next cell to kick off a hyperdrive run. A full run takes ~22 minutes to complete.Run the cell after that to look at data that came from an older run."
    },
    {
      "metadata": {
        "trusted": true
      },
      "cell_type": "code",
      "source": "from azureml.train.dnn import TensorFlow\nfrom azureml.train.hyperdrive import RandomParameterSampling, BanditPolicy, HyperDriveRunConfig, PrimaryMetricGoal\nfrom azureml.train.hyperdrive import loguniform, uniform\n\ncluster = ws.compute_targets[AML.compute_name]\n\nscript_params={\n    '--datastore-dir': ws.get_default_datastore().as_mount(),\n}\n\ntf_estimator = TensorFlow(source_directory='scripts',\n                          compute_target=cluster,\n                          entry_script='train.py',\n                          script_params=script_params,\n                          use_gpu=True)\n\nps = RandomParameterSampling(\n    {\n        '--learning-rate': loguniform(-15, -3)\n    }\n)\n\nearly_termination_policy = BanditPolicy(slack_factor = 0.15, evaluation_interval=2)\n\nhyperdrive_run_config = HyperDriveRunConfig(estimator = tf_estimator, \n                                            hyperparameter_sampling = ps, \n                                            policy = early_termination_policy,\n                                            primary_metric_name = \"validation_accuracy\",\n                                            primary_metric_goal = PrimaryMetricGoal.MAXIMIZE,\n                                            max_total_runs = 20,\n                                            max_concurrent_runs = 4)\n\nhd_run = experiment.submit(hyperdrive_run_config)\nhd_run_id = hd_run.id\nhd_run_id",
      "execution_count": null,
      "outputs": []
    },
    {
      "metadata": {},
      "cell_type": "markdown",
      "source": "Let's look at the progress of the HyperDrive run using the Azure Machine Learning Jupyter widget:"
    },
    {
      "metadata": {
        "trusted": true
      },
      "cell_type": "code",
      "source": "from azureml.core import Run\nfrom azureml.train.widgets import RunDetails\n\nRunDetails(Run(experiment, hd_run_id)).show()",
      "execution_count": null,
      "outputs": []
    },
    {
      "metadata": {},
      "cell_type": "markdown",
      "source": "Let's look at a completed HyperDrive run so we can see the results"
    },
    {
      "metadata": {
        "trusted": true
      },
      "cell_type": "code",
      "source": "hd_run_id = 'ConnectExperiment_1542152717287'",
      "execution_count": null,
      "outputs": []
    },
    {
      "metadata": {},
      "cell_type": "markdown",
      "source": "Show progress using the AML Widget. If we are looking at `ConnectExperiment_1542152717287`, the best run from the list below is number 233, `ConnectExperiment_1542152717287_15`. It has a `final_accuracy` of 90%, which uses a test dataset that was not used for either training or validation."
    },
    {
      "metadata": {
        "trusted": true
      },
      "cell_type": "code",
      "source": "from azureml.core import Run\nfrom azureml.train.widgets import RunDetails\n\nRunDetails(Run(experiment, hd_run_id)).show()",
      "execution_count": null,
      "outputs": []
    },
    {
      "metadata": {},
      "cell_type": "markdown",
      "source": "## Register the best run\n"
    },
    {
      "metadata": {
        "trusted": true
      },
      "cell_type": "code",
      "source": "from azureml.core import Run\n\nbest_run = Run(experiment, run_id='ConnectExperiment_1542152717287_15')\nmodel = best_run.register_model(model_name='pet-detector', model_path='outputs')\nbest_run",
      "execution_count": null,
      "outputs": []
    },
    {
      "metadata": {},
      "cell_type": "markdown",
      "source": "## Training complete - let's turn this into production code\n\nJupyter notebooks are great for experimentation and keeping track of what you have tried. Now that we have a model that we're happy with, it's time to write some code so that we can reproducibly train, optimize and deploy models in the future. We'll do the next steps using Visual Studio Code."
    }
  ],
  "metadata": {
    "kernelspec": {
      "name": "python3-azureml",
      "display_name": "Python 3.6 - AzureML",
      "language": "python"
    },
    "language_info": {
      "pygments_lexer": "ipython3",
      "codemirror_mode": {
        "version": 3,
        "name": "ipython"
      },
      "nbconvert_exporter": "python",
      "version": "3.6.6",
      "file_extension": ".py",
      "mimetype": "text/x-python",
      "name": "python"
    }
  },
  "nbformat": 4,
  "nbformat_minor": 2
}